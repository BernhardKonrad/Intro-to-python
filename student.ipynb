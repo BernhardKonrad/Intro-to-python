{
 "metadata": {
  "name": "",
  "signature": "sha256:61c69d8e7f56e81212f809e73a4feef744cde0be31558f4e48fdda80d8f5b215"
 },
 "nbformat": 3,
 "nbformat_minor": 0,
 "worksheets": [
  {
   "cells": [
    {
     "cell_type": "heading",
     "level": 1,
     "metadata": {},
     "source": [
      "Intro to IPython Notebook"
     ]
    },
    {
     "cell_type": "code",
     "collapsed": true,
     "input": [
      "print 'Good morning YRC'"
     ],
     "language": "python",
     "metadata": {},
     "outputs": []
    },
    {
     "cell_type": "markdown",
     "metadata": {},
     "source": [
      "Ctl+return to execute. Allows you to go back and make changes."
     ]
    },
    {
     "cell_type": "markdown",
     "metadata": {},
     "source": [
      "Since we are in a browser after all, let's do what all reasonable people do in a browser: Lolcats"
     ]
    },
    {
     "cell_type": "markdown",
     "metadata": {},
     "source": [
      "![Python lolcat](http://jellybeansofdoom.com/wp-content/uploads/2012/04/unladen-swallow.jpg)"
     ]
    },
    {
     "cell_type": "markdown",
     "metadata": {},
     "source": [
      "...and link to the Monty Python video"
     ]
    },
    {
     "cell_type": "code",
     "collapsed": true,
     "input": [
      "from IPython.display import YouTubeVideo\n",
      "YouTubeVideo(\"y2R3FvS4xr4\")"
     ],
     "language": "python",
     "metadata": {},
     "outputs": []
    },
    {
     "cell_type": "markdown",
     "metadata": {},
     "source": [
      "Back to python (the language)"
     ]
    },
    {
     "cell_type": "markdown",
     "metadata": {},
     "source": [
      "Of course, the ipython notebook has tab completion!"
     ]
    },
    {
     "cell_type": "code",
     "collapsed": true,
     "input": [],
     "language": "python",
     "metadata": {},
     "outputs": []
    },
    {
     "cell_type": "markdown",
     "metadata": {},
     "source": [
      "prints last value by default"
     ]
    },
    {
     "cell_type": "code",
     "collapsed": true,
     "input": [],
     "language": "python",
     "metadata": {},
     "outputs": []
    },
    {
     "cell_type": "code",
     "collapsed": true,
     "input": [],
     "language": "python",
     "metadata": {},
     "outputs": []
    },
    {
     "cell_type": "markdown",
     "metadata": {},
     "source": [
      "Objects and methods"
     ]
    },
    {
     "cell_type": "code",
     "collapsed": true,
     "input": [],
     "language": "python",
     "metadata": {},
     "outputs": []
    },
    {
     "cell_type": "code",
     "collapsed": true,
     "input": [],
     "language": "python",
     "metadata": {},
     "outputs": []
    },
    {
     "cell_type": "code",
     "collapsed": true,
     "input": [],
     "language": "python",
     "metadata": {},
     "outputs": []
    },
    {
     "cell_type": "heading",
     "level": 2,
     "metadata": {},
     "source": [
      "Functions"
     ]
    },
    {
     "cell_type": "code",
     "collapsed": true,
     "input": [
      "def hi(name):\n",
      "    print 'Good morning', name"
     ],
     "language": "python",
     "metadata": {},
     "outputs": []
    },
    {
     "cell_type": "heading",
     "level": 1,
     "metadata": {},
     "source": [
      "Time for some math"
     ]
    },
    {
     "cell_type": "heading",
     "level": 2,
     "metadata": {},
     "source": [
      "Symbolic"
     ]
    },
    {
     "cell_type": "markdown",
     "metadata": {},
     "source": [
      "Check out [SymPy](http://docs.sympy.org/latest/tutorial/intro.html)"
     ]
    },
    {
     "cell_type": "code",
     "collapsed": true,
     "input": [
      "import math"
     ],
     "language": "python",
     "metadata": {},
     "outputs": []
    },
    {
     "cell_type": "code",
     "collapsed": true,
     "input": [
      "print math.sqrt(8)\n",
      "print math.pi"
     ],
     "language": "python",
     "metadata": {},
     "outputs": []
    },
    {
     "cell_type": "code",
     "collapsed": true,
     "input": [
      "from sympy import *\n",
      "from sympy.interactive import printing\n",
      "printing.init_printing(use_latex=True)"
     ],
     "language": "python",
     "metadata": {},
     "outputs": []
    },
    {
     "cell_type": "code",
     "collapsed": true,
     "input": [
      ">>> x, y = symbols('x y')\n",
      ">>> expr = x + 2*y\n",
      ">>> expr\n",
      "x + 2*y"
     ],
     "language": "python",
     "metadata": {},
     "outputs": []
    },
    {
     "cell_type": "markdown",
     "metadata": {},
     "source": [
      "For more quick examples see https://github.com/sympy/sympy/wiki/Quick-examples.\n",
      "\n",
      "Or browse a much larger list of things sympy can do http://docs.sympy.org/latest/modules/index.html."
     ]
    },
    {
     "cell_type": "heading",
     "level": 2,
     "metadata": {},
     "source": [
      "Some numerical computations"
     ]
    },
    {
     "cell_type": "code",
     "collapsed": true,
     "input": [
      "import numpy as np\n",
      "from scipy.integrate import odeint\n",
      "import matplotlib.pyplot as plt\n",
      "%pylab inline"
     ],
     "language": "python",
     "metadata": {},
     "outputs": []
    },
    {
     "cell_type": "code",
     "collapsed": true,
     "input": [
      "x = randn(100000)\n",
      "plt.hist(x)"
     ],
     "language": "python",
     "metadata": {},
     "outputs": []
    },
    {
     "cell_type": "markdown",
     "metadata": {},
     "source": [
      "Logistic population growth: Solve for $x$ given that\n",
      "$$\\frac{dx}{dt} = rx(1-x)$$\n",
      "for growth rate $r = 0.5$"
     ]
    },
    {
     "cell_type": "heading",
     "level": 2,
     "metadata": {},
     "source": [
      "Data input and output"
     ]
    },
    {
     "cell_type": "markdown",
     "metadata": {},
     "source": [
      "![YRC2014](http://www.math.ubc.ca/~GradComm/YRC/header2.jpg)"
     ]
    },
    {
     "cell_type": "heading",
     "level": 3,
     "metadata": {},
     "source": [
      "What is the gender ratio at PIMS YRC 2014?"
     ]
    },
    {
     "cell_type": "markdown",
     "metadata": {},
     "source": [
      "Need: [List of participants](http://www.math.ubc.ca/~GradComm/YRC/participants.html)\n",
      "\n",
      "Get gender from first name: [Ask a friend](http://bit.ly/1jQ9N28)"
     ]
    },
    {
     "cell_type": "heading",
     "level": 4,
     "metadata": {},
     "source": [
      "Want to make a plot? The [Matplotlib Gallery](http://matplotlib.org/gallery.html) is the got-to for that! "
     ]
    },
    {
     "cell_type": "markdown",
     "metadata": {},
     "source": [
      "You find this file on my [Github page](http://www.github.com/BernhardKonrad)\n",
      "\n",
      "This material is taken from all over the internet, in particular from [Software Carpentry](http://www.software-carpentry.org)\n",
      "\n",
      "![Thanks to Software Carpentry](http://swcarpentry.github.io/boot-camps/logos/software-carpentry-with-hammer.svg)"
     ]
    },
    {
     "cell_type": "markdown",
     "metadata": {},
     "source": [
      "Read about more ipython magic functions [here](http://nbviewer.ipython.org/github/ipython/ipython/blob/1.x/examples/notebooks/Cell%20Magics.ipynb)\n",
      "\n",
      "Python conferences, very much encouraged to go as a beginner:\n",
      "* [PyCon](http://www.pycon.org/)\n",
      "* [SciPy](http://conference.scipy.org/)\n",
      "\n",
      "They also upload videos of the talks if you want to learn more python. Like [this one](http://pyvideo.org/video/2683/keynote-fernando-perez) by Fernando Perez, the original author of IPython."
     ]
    },
    {
     "cell_type": "heading",
     "level": 2,
     "metadata": {},
     "source": [
      "Bonus: More direct interaction with your data"
     ]
    },
    {
     "cell_type": "code",
     "collapsed": true,
     "input": [
      "%matplotlib inline\n",
      "from IPython.html.widgets import interact\n",
      "from IPython.html import widgets"
     ],
     "language": "python",
     "metadata": {},
     "outputs": []
    },
    {
     "cell_type": "code",
     "collapsed": true,
     "input": [
      "def plot_ode(r, initial):\n",
      "    def rhs(x, t):\n",
      "        return r*x*(1-x)\n",
      "\n",
      "    t = np.linspace(0, 30, 500)\n",
      "    numerical = odeint(rhs, initial, t)\n",
      "    analytical = 1/(1+(1/initial-1)*np.exp(-r*t))\n",
      "\n",
      "    plt.plot(t, numerical)\n",
      "    plt.plot(t, analytical)\n",
      "    plt.ylim([0, 1])"
     ],
     "language": "python",
     "metadata": {},
     "outputs": []
    },
    {
     "cell_type": "code",
     "collapsed": true,
     "input": [
      "interact(lambda r, initial: plot_ode(r, initial), r=(0.1, 1.), initial=widgets.FloatSliderWidget(min=0, max=1, step=0.01, value=0.3))"
     ],
     "language": "python",
     "metadata": {},
     "outputs": []
    },
    {
     "cell_type": "code",
     "collapsed": true,
     "input": [],
     "language": "python",
     "metadata": {},
     "outputs": []
    }
   ],
   "metadata": {}
  }
 ]
}
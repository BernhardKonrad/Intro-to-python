{
 "metadata": {
  "name": "",
  "signature": "sha256:715ab9fcd5f7b487e25cc24dd64fd065322c67f4274ed81c2b138c63db1d3957"
 },
 "nbformat": 3,
 "nbformat_minor": 0,
 "worksheets": [
  {
   "cells": [
    {
     "cell_type": "heading",
     "level": 1,
     "metadata": {},
     "source": [
      "Intro to IPython Notebook"
     ]
    },
    {
     "cell_type": "markdown",
     "metadata": {},
     "source": [
      "Slides from Bernhard Konrads plenary talk *\"An introduction to python and reproducible research\"* at the [11th PIMS Young Researcher Conference at UBC, Vancouver BC, June 4th 2014](http://www.math.ubc.ca/~GradComm/YRC/)\n",
      "\n",
      "The latest version of this file is on [Bernhard's github](https://github.com/BernhardKonrad/Intro-to-python)"
     ]
    },
    {
     "cell_type": "code",
     "collapsed": false,
     "input": [
      "print 'Good morning YRC, ... and friends and all'"
     ],
     "language": "python",
     "metadata": {},
     "outputs": [
      {
       "output_type": "stream",
       "stream": "stdout",
       "text": [
        "Good morning YRC, ... and friends and all\n"
       ]
      }
     ],
     "prompt_number": 1
    },
    {
     "cell_type": "markdown",
     "metadata": {},
     "source": [
      "Ctl+return to execute. Allows you to go back and make changes."
     ]
    },
    {
     "cell_type": "code",
     "collapsed": false,
     "input": [
      "seconds_per_year = 365*24*60*60\n",
      "greeting = 'Hello everyone!'"
     ],
     "language": "python",
     "metadata": {},
     "outputs": [],
     "prompt_number": 2
    },
    {
     "cell_type": "markdown",
     "metadata": {},
     "source": [
      "Since we are in a browser after all, let's do what all reasonable people do in a browser: Lolcats"
     ]
    },
    {
     "cell_type": "markdown",
     "metadata": {},
     "source": [
      "![Python lolcat](http://jellybeansofdoom.com/wp-content/uploads/2012/04/unladen-swallow.jpg)"
     ]
    },
    {
     "cell_type": "markdown",
     "metadata": {},
     "source": [
      "...and link to the Monty Python video"
     ]
    },
    {
     "cell_type": "code",
     "collapsed": false,
     "input": [
      "from IPython.display import YouTubeVideo\n",
      "YouTubeVideo(\"y2R3FvS4xr4\")"
     ],
     "language": "python",
     "metadata": {},
     "outputs": [
      {
       "html": [
        "\n",
        "        <iframe\n",
        "            width=\"400\"\n",
        "            height=300\"\n",
        "            src=\"https://www.youtube.com/embed/y2R3FvS4xr4\"\n",
        "            frameborder=\"0\"\n",
        "            allowfullscreen\n",
        "        ></iframe>\n",
        "        "
       ],
       "metadata": {},
       "output_type": "pyout",
       "prompt_number": 3,
       "text": [
        "<IPython.lib.display.YouTubeVideo at 0x14c3cd0>"
       ]
      }
     ],
     "prompt_number": 3
    },
    {
     "cell_type": "markdown",
     "metadata": {},
     "source": [
      "Back to python (the language)"
     ]
    },
    {
     "cell_type": "markdown",
     "metadata": {},
     "source": [
      "Of course, the ipython notebook has tab completion!"
     ]
    },
    {
     "cell_type": "code",
     "collapsed": false,
     "input": [
      "seconds_per_year"
     ],
     "language": "python",
     "metadata": {},
     "outputs": [
      {
       "metadata": {},
       "output_type": "pyout",
       "prompt_number": 4,
       "text": [
        "31536000"
       ]
      }
     ],
     "prompt_number": 4
    },
    {
     "cell_type": "markdown",
     "metadata": {},
     "source": [
      "Prints last value by default"
     ]
    },
    {
     "cell_type": "code",
     "collapsed": false,
     "input": [
      "print type(greeting)\n",
      "print type(seconds_per_year)"
     ],
     "language": "python",
     "metadata": {},
     "outputs": [
      {
       "output_type": "stream",
       "stream": "stdout",
       "text": [
        "<type 'str'>\n",
        "<type 'int'>\n"
       ]
      }
     ],
     "prompt_number": 5
    },
    {
     "cell_type": "markdown",
     "metadata": {},
     "source": [
      "Display all methods that work on the string *greeting*"
     ]
    },
    {
     "cell_type": "code",
     "collapsed": false,
     "input": [
      "dir(greeting)"
     ],
     "language": "python",
     "metadata": {},
     "outputs": [
      {
       "metadata": {},
       "output_type": "pyout",
       "prompt_number": 6,
       "text": [
        "['__add__',\n",
        " '__class__',\n",
        " '__contains__',\n",
        " '__delattr__',\n",
        " '__doc__',\n",
        " '__eq__',\n",
        " '__format__',\n",
        " '__ge__',\n",
        " '__getattribute__',\n",
        " '__getitem__',\n",
        " '__getnewargs__',\n",
        " '__getslice__',\n",
        " '__gt__',\n",
        " '__hash__',\n",
        " '__init__',\n",
        " '__le__',\n",
        " '__len__',\n",
        " '__lt__',\n",
        " '__mod__',\n",
        " '__mul__',\n",
        " '__ne__',\n",
        " '__new__',\n",
        " '__reduce__',\n",
        " '__reduce_ex__',\n",
        " '__repr__',\n",
        " '__rmod__',\n",
        " '__rmul__',\n",
        " '__setattr__',\n",
        " '__sizeof__',\n",
        " '__str__',\n",
        " '__subclasshook__',\n",
        " '_formatter_field_name_split',\n",
        " '_formatter_parser',\n",
        " 'capitalize',\n",
        " 'center',\n",
        " 'count',\n",
        " 'decode',\n",
        " 'encode',\n",
        " 'endswith',\n",
        " 'expandtabs',\n",
        " 'find',\n",
        " 'format',\n",
        " 'index',\n",
        " 'isalnum',\n",
        " 'isalpha',\n",
        " 'isdigit',\n",
        " 'islower',\n",
        " 'isspace',\n",
        " 'istitle',\n",
        " 'isupper',\n",
        " 'join',\n",
        " 'ljust',\n",
        " 'lower',\n",
        " 'lstrip',\n",
        " 'partition',\n",
        " 'replace',\n",
        " 'rfind',\n",
        " 'rindex',\n",
        " 'rjust',\n",
        " 'rpartition',\n",
        " 'rsplit',\n",
        " 'rstrip',\n",
        " 'split',\n",
        " 'splitlines',\n",
        " 'startswith',\n",
        " 'strip',\n",
        " 'swapcase',\n",
        " 'title',\n",
        " 'translate',\n",
        " 'upper',\n",
        " 'zfill']"
       ]
      }
     ],
     "prompt_number": 6
    },
    {
     "cell_type": "markdown",
     "metadata": {},
     "source": [
      "Objects and methods"
     ]
    },
    {
     "cell_type": "code",
     "collapsed": false,
     "input": [
      "greeting.replace('everyone', 'Carmen')"
     ],
     "language": "python",
     "metadata": {},
     "outputs": [
      {
       "metadata": {},
       "output_type": "pyout",
       "prompt_number": 7,
       "text": [
        "'Hello Carmen!'"
       ]
      }
     ],
     "prompt_number": 7
    },
    {
     "cell_type": "code",
     "collapsed": false,
     "input": [
      "len?"
     ],
     "language": "python",
     "metadata": {},
     "outputs": [],
     "prompt_number": 8
    },
    {
     "cell_type": "code",
     "collapsed": false,
     "input": [
      "for name in 'Carmen', 'Dimitrios', 'Bernhard':\n",
      "    print greeting.replace('everyone', name)"
     ],
     "language": "python",
     "metadata": {},
     "outputs": [
      {
       "output_type": "stream",
       "stream": "stdout",
       "text": [
        "Hello Carmen!\n",
        "Hello Dimitrios!\n",
        "Hello Bernhard!\n"
       ]
      }
     ],
     "prompt_number": 9
    },
    {
     "cell_type": "heading",
     "level": 2,
     "metadata": {},
     "source": [
      "Functions"
     ]
    },
    {
     "cell_type": "markdown",
     "metadata": {},
     "source": [
      "The body of the function definition is indicated by indentation"
     ]
    },
    {
     "cell_type": "code",
     "collapsed": false,
     "input": [
      "def hi(name):\n",
      "    print 'Good morning', name"
     ],
     "language": "python",
     "metadata": {},
     "outputs": [],
     "prompt_number": 10
    },
    {
     "cell_type": "markdown",
     "metadata": {},
     "source": [
      "Functions can have default arguments"
     ]
    },
    {
     "cell_type": "code",
     "collapsed": false,
     "input": [
      "def hi(timeOfDay, name='Everyone'):\n",
      "    print 'Good', timeOfDay, 'my dear friend', name, 'YRC is a great conference'"
     ],
     "language": "python",
     "metadata": {},
     "outputs": [],
     "prompt_number": 11
    },
    {
     "cell_type": "markdown",
     "metadata": {},
     "source": [
      "By specifying the argument name you don't need to follow the order of arguments"
     ]
    },
    {
     "cell_type": "code",
     "collapsed": false,
     "input": [
      "hi('Afternoon', 'Carmen')\n",
      "hi(name='Bernhard', timeOfDay='evening')"
     ],
     "language": "python",
     "metadata": {},
     "outputs": [
      {
       "output_type": "stream",
       "stream": "stdout",
       "text": [
        "Good Afternoon my dear friend Carmen YRC is a great conference\n",
        "Good evening my dear friend Bernhard YRC is a great conference\n"
       ]
      }
     ],
     "prompt_number": 12
    },
    {
     "cell_type": "code",
     "collapsed": false,
     "input": [
      "def fahrenheit_to_kelvin(temp):\n",
      "    return ((temp - 32) * (5/9)) + 273.15"
     ],
     "language": "python",
     "metadata": {},
     "outputs": [],
     "prompt_number": 13
    },
    {
     "cell_type": "code",
     "collapsed": false,
     "input": [
      "print fahrenheit_to_kelvin(32) # freezing of water\n",
      "print fahrenheit_to_kelvin(212) # boiling of water"
     ],
     "language": "python",
     "metadata": {},
     "outputs": [
      {
       "output_type": "stream",
       "stream": "stdout",
       "text": [
        "273.15\n",
        "273.15\n"
       ]
      }
     ],
     "prompt_number": 14
    },
    {
     "cell_type": "markdown",
     "metadata": {},
     "source": [
      "Wtf? These numbers should be different. The reason is subtle"
     ]
    },
    {
     "cell_type": "code",
     "collapsed": false,
     "input": [
      "5/9"
     ],
     "language": "python",
     "metadata": {},
     "outputs": [
      {
       "metadata": {},
       "output_type": "pyout",
       "prompt_number": 15,
       "text": [
        "0"
       ]
      }
     ],
     "prompt_number": 15
    },
    {
     "cell_type": "markdown",
     "metadata": {},
     "source": [
      "Python 2 (as compared to Python 3) tries to keep the type of input arguments. Since we devide two integers, Python returns an integer. And the best integer approximation of 5/9 is 0.\n",
      "\n",
      "Make one of the two inputs a float to get a float back."
     ]
    },
    {
     "cell_type": "code",
     "collapsed": false,
     "input": [
      "5.0/9"
     ],
     "language": "python",
     "metadata": {},
     "outputs": [
      {
       "metadata": {},
       "output_type": "pyout",
       "prompt_number": 16,
       "text": [
        "0.5555555555555556"
       ]
      }
     ],
     "prompt_number": 16
    },
    {
     "cell_type": "code",
     "collapsed": false,
     "input": [
      "def fahrenheit_to_kelvin(temp):\n",
      "    return ((temp - 32) * (5.0/9)) + 273.15"
     ],
     "language": "python",
     "metadata": {},
     "outputs": [],
     "prompt_number": 17
    },
    {
     "cell_type": "code",
     "collapsed": false,
     "input": [
      "def kelvin_to_celsius(temp):\n",
      "    return temp - 273.15"
     ],
     "language": "python",
     "metadata": {},
     "outputs": [],
     "prompt_number": 18
    },
    {
     "cell_type": "code",
     "collapsed": false,
     "input": [
      "def fahr_to_celsius(temp):\n",
      "    temp_k = fahrenheit_to_kelvin(temp)\n",
      "    temp_c = kelvin_to_celsius(temp_k)\n",
      "    return temp_c"
     ],
     "language": "python",
     "metadata": {},
     "outputs": [],
     "prompt_number": 19
    },
    {
     "cell_type": "code",
     "collapsed": false,
     "input": [
      "print fahr_to_celsius(32) # freezing of water\n",
      "print fahr_to_celsius(212) # boiling of water"
     ],
     "language": "python",
     "metadata": {},
     "outputs": [
      {
       "output_type": "stream",
       "stream": "stdout",
       "text": [
        "0.0\n",
        "100.0\n"
       ]
      }
     ],
     "prompt_number": 20
    },
    {
     "cell_type": "heading",
     "level": 1,
     "metadata": {},
     "source": [
      "Time for some math"
     ]
    },
    {
     "cell_type": "heading",
     "level": 2,
     "metadata": {},
     "source": [
      "Symbolic"
     ]
    },
    {
     "cell_type": "markdown",
     "metadata": {},
     "source": [
      "Check out [SymPy](http://docs.sympy.org/latest/tutorial/intro.html)"
     ]
    },
    {
     "cell_type": "code",
     "collapsed": false,
     "input": [
      "import math"
     ],
     "language": "python",
     "metadata": {},
     "outputs": [],
     "prompt_number": 21
    },
    {
     "cell_type": "code",
     "collapsed": false,
     "input": [
      "print math.sqrt(8)\n",
      "print math.pi"
     ],
     "language": "python",
     "metadata": {},
     "outputs": [
      {
       "output_type": "stream",
       "stream": "stdout",
       "text": [
        "2.82842712475\n",
        "3.14159265359\n"
       ]
      }
     ],
     "prompt_number": 22
    },
    {
     "cell_type": "code",
     "collapsed": false,
     "input": [
      "from sympy import *\n",
      "from sympy.interactive import printing\n",
      "printing.init_printing(use_latex=True)"
     ],
     "language": "python",
     "metadata": {},
     "outputs": [],
     "prompt_number": 23
    },
    {
     "cell_type": "code",
     "collapsed": false,
     "input": [
      "print sqrt(3)"
     ],
     "language": "python",
     "metadata": {},
     "outputs": [
      {
       "output_type": "stream",
       "stream": "stdout",
       "text": [
        "sqrt(3)\n"
       ]
      }
     ],
     "prompt_number": 24
    },
    {
     "cell_type": "code",
     "collapsed": false,
     "input": [
      ">>> x, y = symbols('x y')\n",
      ">>> expr = x + 2*y\n",
      ">>> expr\n",
      "x + 2*y"
     ],
     "language": "python",
     "metadata": {},
     "outputs": [
      {
       "latex": [
        "$$x + 2 y$$"
       ],
       "metadata": {},
       "output_type": "pyout",
       "png": "[encoded data removed]",
       "prompt_number": 25,
       "text": [
        "x + 2\u22c5y"
       ]
      }
     ],
     "prompt_number": 25
    },
    {
     "cell_type": "code",
     "collapsed": false,
     "input": [
      "expr - x"
     ],
     "language": "python",
     "metadata": {},
     "outputs": [
      {
       "latex": [
        "$$2 y$$"
       ],
       "metadata": {},
       "output_type": "pyout",
       "png": "[encoded data removed]",
       "prompt_number": 26,
       "text": [
        "2\u22c5y"
       ]
      }
     ],
     "prompt_number": 26
    },
    {
     "cell_type": "code",
     "collapsed": false,
     "input": [
      "diff(x*expr, y)"
     ],
     "language": "python",
     "metadata": {},
     "outputs": [
      {
       "latex": [
        "$$2 x$$"
       ],
       "metadata": {},
       "output_type": "pyout",
       "png": "[encoded data removed]",
       "prompt_number": 27,
       "text": [
        "2\u22c5x"
       ]
      }
     ],
     "prompt_number": 27
    },
    {
     "cell_type": "code",
     "collapsed": false,
     "input": [
      "myfun = integrate(exp(x)*sin(x) + exp(x)*cos(x), x)\n",
      "print myfun"
     ],
     "language": "python",
     "metadata": {},
     "outputs": [
      {
       "output_type": "stream",
       "stream": "stdout",
       "text": [
        "exp(x)*sin(x)\n"
       ]
      }
     ],
     "prompt_number": 28
    },
    {
     "cell_type": "code",
     "collapsed": false,
     "input": [
      "myfun.subs(x,math.pi).evalf()"
     ],
     "language": "python",
     "metadata": {},
     "outputs": [
      {
       "latex": [
        "$$2.83391751627859 \\cdot 10^{-15}$$"
       ],
       "metadata": {},
       "output_type": "pyout",
       "png": "[encoded data removed]",
       "prompt_number": 29,
       "text": [
        "2.83391751627859e-15"
       ]
      }
     ],
     "prompt_number": 29
    },
    {
     "cell_type": "markdown",
     "metadata": {},
     "source": [
      "Solve $f''(x) + 9 f(x) = 1$"
     ]
    },
    {
     "cell_type": "code",
     "collapsed": false,
     "input": [
      " f = Function('f')\n",
      " dsolve(Eq(Derivative(f(x),x,x) + 9*f(x), 1), f(x))"
     ],
     "language": "python",
     "metadata": {},
     "outputs": [
      {
       "latex": [
        "$$f{\\left (x \\right )} = C_{1} \\sin{\\left (3 x \\right )} + C_{2} \\cos{\\left (3 x \\right )} + \\frac{1}{9}$$"
       ],
       "metadata": {},
       "output_type": "pyout",
       "png": "[encoded data removed]",
       "prompt_number": 30,
       "text": [
        "f(x) = C\u2081\u22c5sin(3\u22c5x) + C\u2082\u22c5cos(3\u22c5x) + 1/9"
       ]
      }
     ],
     "prompt_number": 30
    },
    {
     "cell_type": "code",
     "collapsed": false,
     "input": [
      "limit(sin(x)/x, x, 0)"
     ],
     "language": "python",
     "metadata": {},
     "outputs": [
      {
       "latex": [
        "$$1$$"
       ],
       "metadata": {},
       "output_type": "pyout",
       "png": "[encoded data removed]",
       "prompt_number": 31,
       "text": [
        "1"
       ]
      }
     ],
     "prompt_number": 31
    },
    {
     "cell_type": "code",
     "collapsed": false,
     "input": [
      "x = primerange(7, 33)"
     ],
     "language": "python",
     "metadata": {},
     "outputs": [],
     "prompt_number": 32
    },
    {
     "cell_type": "code",
     "collapsed": false,
     "input": [
      "for prime in x:\n",
      "    print prime"
     ],
     "language": "python",
     "metadata": {},
     "outputs": [
      {
       "output_type": "stream",
       "stream": "stdout",
       "text": [
        "7\n",
        "11\n",
        "13\n",
        "17\n",
        "19\n",
        "23\n",
        "29\n",
        "31\n"
       ]
      }
     ],
     "prompt_number": 33
    },
    {
     "cell_type": "markdown",
     "metadata": {},
     "source": [
      "For more quick examples see https://github.com/sympy/sympy/wiki/Quick-examples.\n",
      "\n",
      "Or browse a much larger list of things sympy can do http://docs.sympy.org/latest/modules/index.html."
     ]
    },
    {
     "cell_type": "heading",
     "level": 2,
     "metadata": {},
     "source": [
      "Some numerical computations"
     ]
    },
    {
     "cell_type": "code",
     "collapsed": false,
     "input": [
      "import numpy as np\n",
      "from scipy.integrate import odeint\n",
      "import matplotlib.pyplot as plt\n",
      "%pylab inline"
     ],
     "language": "python",
     "metadata": {},
     "outputs": [
      {
       "output_type": "stream",
       "stream": "stdout",
       "text": [
        "Populating the interactive namespace from numpy and matplotlib\n"
       ]
      },
      {
       "output_type": "stream",
       "stream": "stderr",
       "text": [
        "WARNING: pylab import has clobbered these variables: ['Polygon', 'poly', 'cosh', 'flatten', 'conjugate', 'diff', 'Circle', 'tan', 'roots', 'plot', 'eye', 'trace', 'floor', 'diag', 'invert', 'nan', 'sqrt', 'source', 'add', 'zeros', 'take', 'prod', 'plotting', 'product', 'exp', 'power', 'multinomial', 'transpose', 'var', 'beta', 'ones', 'sinh', 'vectorize', 'sign', 'test', 'trunc', 'cos', 'seterr', 'f', 'tanh', 'det', 'pi', 'sin', 'binomial', 'solve', 'log', 'mod', 'reshape', 'gamma', 'interactive']\n",
        "`%matplotlib` prevents importing * from pylab and numpy\n"
       ]
      }
     ],
     "prompt_number": 34
    },
    {
     "cell_type": "code",
     "collapsed": false,
     "input": [
      "x = randn(100000)\n",
      "plt.hist(x)"
     ],
     "language": "python",
     "metadata": {},
     "outputs": [
      {
       "metadata": {},
       "output_type": "pyout",
       "prompt_number": 35,
       "text": [
        "(array([  2.80000000e+01,   5.11000000e+02,   4.47900000e+03,\n",
        "          1.70210000e+04,   3.21780000e+04,   2.94480000e+04,\n",
        "          1.31170000e+04,   2.89500000e+03,   3.08000000e+02,\n",
        "          1.50000000e+01]),\n",
        " array([-4.27875891, -3.40168272, -2.52460654, -1.64753036, -0.77045417,\n",
        "         0.10662201,  0.98369819,  1.86077438,  2.73785056,  3.61492674,\n",
        "         4.49200293]),\n",
        " <a list of 10 Patch objects>)"
       ]
      },
      {
       "metadata": {},
       "output_type": "display_data",
       "png": "[encoded data removed]",
       "text": [
        "<matplotlib.figure.Figure at 0x39ed110>"
       ]
      }
     ],
     "prompt_number": 35
    },
    {
     "cell_type": "markdown",
     "metadata": {},
     "source": [
      "The timeit *magic* is a quick and easy way of timing your code."
     ]
    },
    {
     "cell_type": "code",
     "collapsed": false,
     "input": [
      "%timeit np.linalg.eigvals(np.random.rand(800,800))"
     ],
     "language": "python",
     "metadata": {},
     "outputs": [
      {
       "output_type": "stream",
       "stream": "stdout",
       "text": [
        "1 loops, best of 3: 3.89 s per loop\n"
       ]
      }
     ],
     "prompt_number": 36
    },
    {
     "cell_type": "code",
     "collapsed": false,
     "input": [
      "np.linalg?"
     ],
     "language": "python",
     "metadata": {},
     "outputs": [],
     "prompt_number": 37
    },
    {
     "cell_type": "markdown",
     "metadata": {},
     "source": [
      "Logistic population growth: Solve for $x$ given that\n",
      "$$\\frac{dx}{dt} = rx(1-x)$$\n",
      "for growth rate $r = 0.5$"
     ]
    },
    {
     "cell_type": "code",
     "collapsed": false,
     "input": [
      "def rhs(x, t):\n",
      "    return 0.5*x*(1-x)"
     ],
     "language": "python",
     "metadata": {},
     "outputs": [],
     "prompt_number": 38
    },
    {
     "cell_type": "code",
     "collapsed": false,
     "input": [
      "t = np.linspace(0, 10, 500)\n",
      "initial = 0.7\n",
      "numerical = odeint(rhs, initial, t)\n",
      "analytical = 1/(1+(1/initial-1)*np.exp(-0.5*t))"
     ],
     "language": "python",
     "metadata": {},
     "outputs": [],
     "prompt_number": 39
    },
    {
     "cell_type": "code",
     "collapsed": false,
     "input": [
      "plt.plot(t, numerical)\n",
      "plt.plot(t, analytical)"
     ],
     "language": "python",
     "metadata": {},
     "outputs": [
      {
       "metadata": {},
       "output_type": "pyout",
       "prompt_number": 40,
       "text": [
        "[<matplotlib.lines.Line2D at 0x4411ad0>]"
       ]
      },
      {
       "metadata": {},
       "output_type": "display_data",
       "png": "[encoded data removed]",
       "text": [
        "<matplotlib.figure.Figure at 0x44119d0>"
       ]
      }
     ],
     "prompt_number": 40
    },
    {
     "cell_type": "markdown",
     "metadata": {},
     "source": [
      "Check that the difference between the analytical and numerical solution is small."
     ]
    },
    {
     "cell_type": "code",
     "collapsed": false,
     "input": [
      "diff = numerical.transpose()-analytical"
     ],
     "language": "python",
     "metadata": {},
     "outputs": [],
     "prompt_number": 41
    },
    {
     "cell_type": "code",
     "collapsed": false,
     "input": [
      "plt.plot(t, diff.transpose())\n",
      "plt.xlabel('time')\n",
      "plt.ylabel('error')"
     ],
     "language": "python",
     "metadata": {},
     "outputs": [
      {
       "metadata": {},
       "output_type": "pyout",
       "prompt_number": 42,
       "text": [
        "<matplotlib.text.Text at 0x4572ad0>"
       ]
      },
      {
       "metadata": {},
       "output_type": "display_data",
       "png": "[encoded data removed]",
       "text": [
        "<matplotlib.figure.Figure at 0x441c210>"
       ]
      }
     ],
     "prompt_number": 42
    },
    {
     "cell_type": "heading",
     "level": 2,
     "metadata": {},
     "source": [
      "Data input and output"
     ]
    },
    {
     "cell_type": "markdown",
     "metadata": {},
     "source": [
      "![YRC2014](http://www.math.ubc.ca/~GradComm/YRC/header2.jpg)"
     ]
    },
    {
     "cell_type": "heading",
     "level": 3,
     "metadata": {},
     "source": [
      "What is the gender ratio at PIMS YRC 2014?"
     ]
    },
    {
     "cell_type": "markdown",
     "metadata": {},
     "source": [
      "Need: [List of participants](http://www.math.ubc.ca/~GradComm/YRC/participants.html)\n",
      "\n",
      "Get gender from first name: [Ask a friend](http://bit.ly/1jQ9N28)"
     ]
    },
    {
     "cell_type": "code",
     "collapsed": false,
     "input": [
      "%load https://raw.githubusercontent.com/block8437/gender.py/master/gender.py"
     ],
     "language": "python",
     "metadata": {},
     "outputs": [],
     "prompt_number": 43
    },
    {
     "cell_type": "code",
     "collapsed": false,
     "input": [
      "import requests, json\n",
      "\n",
      "def getGenders(names):\n",
      "\turl = \"\"\n",
      "\tcnt = 0\n",
      "\tfor name in names:\n",
      "\t\tif url == \"\":\n",
      "\t\t\turl = \"name[0]=\" + name\n",
      "\t\telse:\n",
      "\t\t\turl = url + \"&name[\" + str(cnt) + \"]=\" + name\n",
      "\t\tcnt += 1\n",
      "\n",
      "\treq = requests.get(\"http://api.genderize.io?\" + url)\n",
      "\tresults = json.loads(req.text)\n",
      "\t\n",
      "\tretrn = []\n",
      "\tfor result in results:\n",
      "\t\tif result[\"gender\"] != None:\n",
      "\t\t\tretrn.append((result[\"gender\"], result[\"probability\"], result[\"count\"]))\n",
      "\t\telse:\n",
      "\t\t\tretrn.append((u'None',u'0.0',0.0))\n",
      "\treturn retrn\n",
      "\n",
      "if __name__ == '__main__':\n",
      "\tprint getGenders([\"Brian\",\"Apple\",\"Jessica\",\"Zaeem\",\"NotAName\"])\n"
     ],
     "language": "python",
     "metadata": {},
     "outputs": [
      {
       "output_type": "stream",
       "stream": "stdout",
       "text": [
        "[(u'male', u'1.00', 1788), (u'female', u'0.89', 37), (u'female', u'1.00', 2410), (u'male', u'1.00', 2), (u'None', u'0.0', 0.0)]\n"
       ]
      }
     ],
     "prompt_number": 45
    },
    {
     "cell_type": "code",
     "collapsed": false,
     "input": [
      "x = getGenders([\"James\"])\n",
      "print x[0][0]"
     ],
     "language": "python",
     "metadata": {},
     "outputs": [
      {
       "output_type": "stream",
       "stream": "stdout",
       "text": [
        "male\n"
       ]
      }
     ],
     "prompt_number": 46
    },
    {
     "cell_type": "code",
     "collapsed": false,
     "input": [
      "fin = open('participants.txt', 'r')\n",
      "\n",
      "guys = []\n",
      "girls = []\n",
      "for line in fin:\n",
      "    name = line.split(',')[1].strip().split(' ')[0]\n",
      "    gender = getGenders([name])[0][0]\n",
      "    if gender == 'male':\n",
      "        guys.append(name)\n",
      "    elif gender == 'female':\n",
      "        girls.append(name)\n",
      "    else:\n",
      "        print name, 'can not be classified automatically :('\n",
      "fin.close()\n",
      "print 'guys:', guys\n",
      "print 'girls:', girls "
     ],
     "language": "python",
     "metadata": {},
     "outputs": [
      {
       "output_type": "stream",
       "stream": "stdout",
       "text": [
        "Ching-Yang can not be classified automatically :(\n",
        "Yipin"
       ]
      },
      {
       "output_type": "stream",
       "stream": "stdout",
       "text": [
        " can not be classified automatically :(\n",
        "Manor"
       ]
      },
      {
       "output_type": "stream",
       "stream": "stdout",
       "text": [
        " can not be classified automatically :(\n",
        "Chayne"
       ]
      },
      {
       "output_type": "stream",
       "stream": "stdout",
       "text": [
        " can not be classified automatically :(\n",
        "Tianji"
       ]
      },
      {
       "output_type": "stream",
       "stream": "stdout",
       "text": [
        " can not be classified automatically :(\n",
        "Tatchai"
       ]
      },
      {
       "output_type": "stream",
       "stream": "stdout",
       "text": [
        " can not be classified automatically :(\n",
        "Shuqiang"
       ]
      },
      {
       "output_type": "stream",
       "stream": "stdout",
       "text": [
        " can not be classified automatically :(\n",
        "Boyko"
       ]
      },
      {
       "output_type": "stream",
       "stream": "stdout",
       "text": [
        " can not be classified automatically :(\n",
        "guys:"
       ]
      },
      {
       "output_type": "stream",
       "stream": "stdout",
       "text": [
        " ['Reynaldo', 'Muhammad', 'Maxime', 'Jeff', 'Andreas', 'Hon', 'Vince', 'Laurent', 'Hao', 'Jeremy', 'Ross', 'Matthew', 'Carlos', 'Garrett', 'Ram', 'Harold', 'Daniel', 'Philippe', 'Mark', 'Jan', 'Kyle', 'Ghulam', 'Clinton', 'Alastair', 'Atsushi', 'Nathan', 'Bernhard', 'Michael', 'Kevin', 'Dimitrios', 'Andres', 'Justin', 'Syed', 'Shaya', 'Soumen', 'Mark', 'Ben', 'Siqi', 'Thomas', 'Cole']\n",
        "girls: ['Carmen', 'Adela', 'Natalia', 'Marie-Andr\\xc3\\xa9e', 'Jayati', 'Allysa', 'Myrto', 'Kateryna', 'Vivian', 'Vanessa', 'Juliana', 'Ji', 'Amanda', 'Cathryn', 'Wafa', 'Jia', 'Polly']\n"
       ]
      }
     ],
     "prompt_number": 47
    },
    {
     "cell_type": "code",
     "collapsed": false,
     "input": [
      "len(guys)"
     ],
     "language": "python",
     "metadata": {},
     "outputs": [
      {
       "latex": [
        "$$40$$"
       ],
       "metadata": {},
       "output_type": "pyout",
       "png": "[encoded data removed]",
       "prompt_number": 48,
       "text": [
        "40"
       ]
      }
     ],
     "prompt_number": 48
    },
    {
     "cell_type": "code",
     "collapsed": false,
     "input": [
      "len(girls)"
     ],
     "language": "python",
     "metadata": {},
     "outputs": [
      {
       "latex": [
        "$$17$$"
       ],
       "metadata": {},
       "output_type": "pyout",
       "png": "[encoded data removed]",
       "prompt_number": 49,
       "text": [
        "17"
       ]
      }
     ],
     "prompt_number": 49
    },
    {
     "cell_type": "heading",
     "level": 4,
     "metadata": {},
     "source": [
      "Want to make a plot? The [Matplotlib Gallery](http://matplotlib.org/gallery.html) is the got-to for that! "
     ]
    },
    {
     "cell_type": "code",
     "collapsed": false,
     "input": [
      "%load http://matplotlib.org/mpl_examples/pie_and_polar_charts/pie_demo_features.py"
     ],
     "language": "python",
     "metadata": {},
     "outputs": [],
     "prompt_number": 50
    },
    {
     "cell_type": "code",
     "collapsed": false,
     "input": [
      "\"\"\"\n",
      "Demo of a basic pie chart plus a few additional features.\n",
      "\n",
      "In addition to the basic pie chart, this demo shows a few optional features:\n",
      "\n",
      "    * slice labels\n",
      "    * auto-labeling the percentage\n",
      "    * offsetting a slice with \"explode\"\n",
      "    * drop-shadow\n",
      "    * custom start angle\n",
      "\n",
      "Note about the custom start angle:\n",
      "\n",
      "The default ``startangle`` is 0, which would start the \"Frogs\" slice on the\n",
      "positive x-axis. This example sets ``startangle = 90`` such that everything is\n",
      "rotated counter-clockwise by 90 degrees, and the frog slice starts on the\n",
      "positive y-axis.\n",
      "\"\"\"\n",
      "import matplotlib.pyplot as plt\n",
      "\n",
      "\n",
      "# The slices will be ordered and plotted counter-clockwise.\n",
      "labels = 'Frogs', 'Hogs', 'Dogs', 'Logs'\n",
      "sizes = [15, 30, 45, 10]\n",
      "colors = ['yellowgreen', 'gold', 'lightskyblue', 'lightcoral']\n",
      "explode = (0, 0.1, 0, 0) # only \"explode\" the 2nd slice (i.e. 'Hogs')\n",
      "\n",
      "plt.pie(sizes, explode=explode, labels=labels, colors=colors,\n",
      "        autopct='%1.1f%%', shadow=True, startangle=90)\n",
      "# Set aspect ratio to be equal so that pie is drawn as a circle.\n",
      "plt.axis('equal')\n",
      "plt.show()\n"
     ],
     "language": "python",
     "metadata": {},
     "outputs": [
      {
       "metadata": {},
       "output_type": "display_data",
       "png": "[encoded data removed]",
       "text": [
        "<matplotlib.figure.Figure at 0x4955a10>"
       ]
      }
     ],
     "prompt_number": 51
    },
    {
     "cell_type": "code",
     "collapsed": false,
     "input": [
      "plt.pie([len(guys), len(girls)], labels=[\"guys\", \"girls\"], autopct='%1.1f%%')\n",
      "plt.title('Genders at PIMS YRC 2014')\n",
      "plt.savefig('genders.png')"
     ],
     "language": "python",
     "metadata": {},
     "outputs": [
      {
       "metadata": {},
       "output_type": "display_data",
       "png": "[encoded data removed]",
       "text": [
        "<matplotlib.figure.Figure at 0x48f0e10>"
       ]
      }
     ],
     "prompt_number": 52
    },
    {
     "cell_type": "heading",
     "level": 4,
     "metadata": {},
     "source": [
      "And from which universities are the participants coming from?"
     ]
    },
    {
     "cell_type": "code",
     "collapsed": false,
     "input": [
      "fin = open('participants.txt', 'r')\n",
      "\n",
      "universities = {}\n",
      "for line in fin:\n",
      "    uni = line.split('(')[-1].split(')')[0].strip()\n",
      "    if uni in universities.keys():\n",
      "        universities[uni] += 1\n",
      "    else:\n",
      "        universities[uni] = 1\n",
      "fin.close()"
     ],
     "language": "python",
     "metadata": {},
     "outputs": [],
     "prompt_number": 53
    },
    {
     "cell_type": "code",
     "collapsed": false,
     "input": [
      "print universities"
     ],
     "language": "python",
     "metadata": {},
     "outputs": [
      {
       "output_type": "stream",
       "stream": "stdout",
       "text": [
        "{'UBC': 27, 'UCalgary': 3, 'Harvard': 1, 'SFU': 5, 'UVic': 4, 'UBC Okanagan': 3, 'McGill': 1, 'U of A': 7, 'Lethbridge': 8, 'Concordia': 1, 'University of Sao Paolo': 1, 'URegina': 3, 'Waterloo': 1}\n"
       ]
      }
     ],
     "prompt_number": 54
    },
    {
     "cell_type": "code",
     "collapsed": false,
     "input": [
      "fout = open('from_where.csv', 'w')\n",
      "uni_names = []\n",
      "uni_participants = []\n",
      "\n",
      "for uni in universities.keys():\n",
      "    uni_names.append(uni)\n",
      "    uni_participants.append(universities[uni])\n",
      "    fout.write(uni + '\\t' + str(universities[uni]) + '\\n')\n",
      "\n",
      "fout.close()\n",
      "plt.figure()\n",
      "plt.pie(uni_participants, labels=uni_names, autopct='%1.1f%%')\n",
      "plt.show()"
     ],
     "language": "python",
     "metadata": {},
     "outputs": [
      {
       "metadata": {},
       "output_type": "display_data",
       "png": "[encoded data removed]",
       "text": [
        "<matplotlib.figure.Figure at 0x4c3e090>"
       ]
      }
     ],
     "prompt_number": 55
    },
    {
     "cell_type": "markdown",
     "metadata": {},
     "source": [
      "You find this file on my [Github page](http://www.github.com/BernhardKonrad)\n",
      "\n",
      "This material is taken from all over the internet, in particular from [Software Carpentry](http://www.software-carpentry.org)\n",
      "\n",
      "![Thanks to Software Carpentry](http://swcarpentry.github.io/boot-camps/logos/software-carpentry-with-hammer.svg)\n",
      "\n",
      "and Ariel Rokem: https://talks.stanford.edu/tutorials/programming-tutorials/"
     ]
    },
    {
     "cell_type": "markdown",
     "metadata": {},
     "source": [
      "Needless to add, Python and the IPython Notebook can do many more things. For example, you can easily embedd and mix other languages like **R**, **Julia**, **Octave** etc using ipython magic functions. An overview can be found [here](http://nbviewer.ipython.org/github/ipython/ipython/blob/1.x/examples/notebooks/Cell%20Magics.ipynb)\n",
      "\n",
      "Python conferences, very much encouraged to go as a beginner:\n",
      "* [PyCon](http://www.pycon.org/)\n",
      "* [SciPy](http://conference.scipy.org/)\n",
      "\n",
      "They also upload videos of the talks if you want to learn more python. Like [this one](http://pyvideo.org/video/2683/keynote-fernando-perez) by Fernando Perez, the original author of IPython."
     ]
    },
    {
     "cell_type": "heading",
     "level": 2,
     "metadata": {},
     "source": [
      "Bonus: More direct interaction with your data"
     ]
    },
    {
     "cell_type": "code",
     "collapsed": false,
     "input": [
      "%matplotlib inline\n",
      "from IPython.html.widgets import interact\n",
      "from IPython.html import widgets"
     ],
     "language": "python",
     "metadata": {},
     "outputs": [],
     "prompt_number": 56
    },
    {
     "cell_type": "code",
     "collapsed": false,
     "input": [
      "def plot_ode(r, initial):\n",
      "    def rhs(x, t):\n",
      "        return r*x*(1-x)\n",
      "\n",
      "    t = np.linspace(0, 10, 500)\n",
      "    numerical = odeint(rhs, initial, t)\n",
      "    analytical = 1/(1+(1/initial-1)*np.exp(-r*t))\n",
      "\n",
      "    plt.plot(t, numerical)\n",
      "    plt.plot(t, analytical)\n",
      "    plt.ylim([0, 1])"
     ],
     "language": "python",
     "metadata": {},
     "outputs": [],
     "prompt_number": 57
    },
    {
     "cell_type": "code",
     "collapsed": false,
     "input": [
      "interact(lambda r, initial: plot_ode(r, initial), r=(0.0, 2.0), initial=widgets.FloatSliderWidget(min=0, max=1, step=0.01, value=0.3))"
     ],
     "language": "python",
     "metadata": {},
     "outputs": [
      {
       "metadata": {},
       "output_type": "display_data",
       "png": "[encoded data removed]",
       "text": [
        "<matplotlib.figure.Figure at 0x4408190>"
       ]
      }
     ],
     "prompt_number": 58
    },
    {
     "cell_type": "code",
     "collapsed": false,
     "input": [],
     "language": "python",
     "metadata": {},
     "outputs": []
    }
   ],
   "metadata": {}
  }
 ]
}